{
 "cells": [
  {
   "cell_type": "markdown",
   "metadata": {},
   "source": [
    "# Pigments comparison for the studies of Iznik ceramics\n",
    "\n",
    "Here is the Jupyter Notebook used for the comparison between the Iznik ceramics based on pigments studies.\n",
    "\n",
    "After generating a database using creation_spectra_base.py, you can use it here by importing the \".txt\" files in the data folder.\n",
    "Then, you can use tools showed here for comparison.\n",
    "\n",
    "## Import\n",
    "\n",
    "Run it two time to get the interactive plot."
   ]
  },
  {
   "cell_type": "code",
   "execution_count": null,
   "metadata": {},
   "outputs": [],
   "source": []
  },
  {
   "cell_type": "code",
   "execution_count": null,
   "metadata": {},
   "outputs": [],
   "source": []
  },
  {
   "cell_type": "code",
   "execution_count": null,
   "metadata": {},
   "outputs": [],
   "source": [
    "pigments_file = open(\"pigments_database.txt\",\"r\")\n",
    "pigments = np.loadtxt(pigments_file)"
   ]
  },
  {
   "cell_type": "code",
   "execution_count": null,
   "metadata": {},
   "outputs": [],
   "source": []
  }
 ],
 "metadata": {
  "kernelspec": {
   "display_name": "Python 3",
   "language": "python",
   "name": "python3"
  },
  "language_info": {
   "codemirror_mode": {
    "name": "ipython",
    "version": 3
   },
   "file_extension": ".py",
   "mimetype": "text/x-python",
   "name": "python",
   "nbconvert_exporter": "python",
   "pygments_lexer": "ipython3",
   "version": "3.7.4"
  }
 },
 "nbformat": 4,
 "nbformat_minor": 2
}
