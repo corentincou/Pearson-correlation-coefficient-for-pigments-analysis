{
 "cells": [
  {
   "cell_type": "markdown",
   "metadata": {},
   "source": [
    "# Pigments comparison for the studies of Iznik ceramics\n",
    "\n",
    "Here is the Jupyter Notebook used for the comparison between the Iznik ceramics based on pigments studies.\n",
    "\n",
    "After generating a database using creation_spectra_base.py, you can use it here by importing the \".txt\" files in the data folder.\n",
    "Then, you can use tools showed here for comparison.\n",
    "\n",
    "## Import\n",
    "\n",
    "Run it two time to get the interactive plot."
   ]
  },
  {
   "cell_type": "code",
   "execution_count": null,
   "metadata": {},
   "outputs": [],
   "source": [
    "import csv\n",
    "import numpy as np\n",
    "import matplotlib.pyplot as plt\n",
    "import spectral.io.envi as envi\n",
    "from spectral import imshow\n",
    "import cv2\n",
    "\n",
    "\n",
    "%matplotlib notebook"
   ]
  },
  {
   "cell_type": "markdown",
   "metadata": {},
   "source": [
    "## Input for the pigments comparison\n"
   ]
  },
  {
   "cell_type": "code",
   "execution_count": null,
   "metadata": {},
   "outputs": [],
   "source": [
    "# Name of the database for reference spectra used\n",
    "database_name = \"iznik_pigments\""
   ]
  },
  {
   "cell_type": "markdown",
   "metadata": {},
   "source": [
    "## Import the database of reference spectra"
   ]
  },
  {
   "cell_type": "code",
   "execution_count": null,
   "metadata": {},
   "outputs": [],
   "source": [
    "reader = csv.reader(open('data//databases//'+database_name+'.csv', mode='r'))\n",
    "\n",
    "pigments_dic = {}\n",
    "for row in reader:\n",
    "    pigments_dic[row[0]]=[float(i) for i in row[1:]]\n",
    "\n",
    "pigments = np.array([pigments_dic[key] for key in pigments_dic.keys()])\n",
    "label = np.array([key for key in pigments_dic.keys()])\n",
    "\n",
    "bands = np.array(np.genfromtxt('bands.csv', delimiter=','))\n"
   ]
  },
  {
   "cell_type": "code",
   "execution_count": null,
   "metadata": {},
   "outputs": [],
   "source": [
    "plt.figure()\n",
    "i = 0\n",
    "for pig in pigments :\n",
    "    plt.plot(bands, pig, label = label[i])\n",
    "    i = i +1\n",
    "    \n",
    "plt.legend(loc='upper right')\n",
    "plt.title('Reference spectra')\n",
    "plt.xlabel('Wavelength (nm)')\n",
    "plt.ylabel('Reflectance')\n",
    "plt.show()"
   ]
  },
  {
   "cell_type": "markdown",
   "metadata": {},
   "source": [
    "## Import the data get from the Iznik hyperspectral images and generate the correlation dataframe"
   ]
  },
  {
   "cell_type": "code",
   "execution_count": null,
   "metadata": {},
   "outputs": [],
   "source": [
    "reader = csv.reader(open('data//databases//'+database_name+'.csv', mode='r'))\n",
    "\n",
    "pigments_dic = {}\n",
    "for row in reader:\n",
    "    pigments_dic[row[0]]=[float(i) for i in row[1:]]\n",
    "\n",
    "pigments = np.array([pigments_dic[key] for key in pigments_dic.keys()])\n",
    "label = np.array([key for key in pigments_dic.keys()])"
   ]
  },
  {
   "cell_type": "code",
   "execution_count": null,
   "metadata": {},
   "outputs": [],
   "source": []
  },
  {
   "cell_type": "markdown",
   "metadata": {},
   "source": [
    "## Plot the visualization \n",
    "\n",
    "### PCA Visualization"
   ]
  },
  {
   "cell_type": "code",
   "execution_count": null,
   "metadata": {},
   "outputs": [],
   "source": []
  },
  {
   "cell_type": "markdown",
   "metadata": {},
   "source": [
    "### Dendrogram"
   ]
  },
  {
   "cell_type": "code",
   "execution_count": null,
   "metadata": {},
   "outputs": [],
   "source": []
  },
  {
   "cell_type": "markdown",
   "metadata": {},
   "source": [
    "### Confusion Matrix"
   ]
  },
  {
   "cell_type": "code",
   "execution_count": null,
   "metadata": {},
   "outputs": [],
   "source": []
  }
 ],
 "metadata": {
  "kernelspec": {
   "display_name": "Python 3",
   "language": "python",
   "name": "python3"
  },
  "language_info": {
   "codemirror_mode": {
    "name": "ipython",
    "version": 3
   },
   "file_extension": ".py",
   "mimetype": "text/x-python",
   "name": "python",
   "nbconvert_exporter": "python",
   "pygments_lexer": "ipython3",
   "version": "3.7.4"
  }
 },
 "nbformat": 4,
 "nbformat_minor": 2
}
